{
 "cells": [
  {
   "cell_type": "code",
   "execution_count": 34,
   "metadata": {},
   "outputs": [],
   "source": [
    "import pandas as pd\n",
    "#if you move this to another file make sure to adjust the path to the csv-file\n",
    "df = pd.read_csv('../data/raw/Preprocessed_data.csv', index_col=0, encoding = 'ISO-8859-1')"
   ]
  },
  {
   "cell_type": "code",
   "execution_count": 35,
   "metadata": {},
   "outputs": [],
   "source": [
    "#only taking rating between 1 and 10\n",
    "df_no_zeros = df.loc[df['rating'] > 0]"
   ]
  },
  {
   "cell_type": "code",
   "execution_count": 36,
   "metadata": {},
   "outputs": [],
   "source": [
    "#only taking ratings of books where the book was rated at least 20 times\n",
    "df_ratings_least = df_no_zeros.groupby('isbn').filter(lambda df: df.shape[0] >= 10)\n",
    "\n",
    "#only taking ratings of books where the book was rated at least 20 times\n",
    "#df_ratings_least = df_no_zeros.groupby('isbn').filter(lambda df: df.shape[0] >= 15)\n",
    "\n",
    "#uncomment the ones above for at least 10 or 15 recommendations per book\n",
    "#only taking ratings of books where the book was rated at least 20 times\n",
    "#df_ratings_least = df_no_zeros.groupby('isbn').filter(lambda df: df.shape[0] >= 20)"
   ]
  },
  {
   "cell_type": "code",
   "execution_count": 37,
   "outputs": [],
   "source": [
    "df_ratings_least = df_ratings_least.groupby('user_id').filter(lambda df: df.shape[0] >= 5)"
   ],
   "metadata": {
    "collapsed": false,
    "pycharm": {
     "name": "#%%\n"
    }
   }
  },
  {
   "cell_type": "code",
   "execution_count": 38,
   "outputs": [
    {
     "data": {
      "text/plain": "(89905, 18)"
     },
     "execution_count": 38,
     "metadata": {},
     "output_type": "execute_result"
    }
   ],
   "source": [
    "df_ratings_least.shape"
   ],
   "metadata": {
    "collapsed": false,
    "pycharm": {
     "name": "#%%\n"
    }
   }
  },
  {
   "cell_type": "markdown",
   "source": [],
   "metadata": {
    "collapsed": false
   }
  },
  {
   "cell_type": "code",
   "execution_count": 39,
   "outputs": [],
   "source": [
    "df_ratings_least.to_csv('../data/processed/preprocessed-data.csv', index=False)"
   ],
   "metadata": {
    "collapsed": false,
    "pycharm": {
     "name": "#%%\n"
    }
   }
  },
  {
   "cell_type": "code",
   "execution_count": null,
   "outputs": [],
   "source": [],
   "metadata": {
    "collapsed": false,
    "pycharm": {
     "name": "#%%\n"
    }
   }
  }
 ],
 "metadata": {
  "interpreter": {
   "hash": "75820074fdd4bb4ff6d0b00227f66c10cb5233def535c12ed690f078991213e1"
  },
  "kernelspec": {
   "display_name": "Python 3.8.8 ('base')",
   "language": "python",
   "name": "python3"
  },
  "language_info": {
   "codemirror_mode": {
    "name": "ipython",
    "version": 3
   },
   "file_extension": ".py",
   "mimetype": "text/x-python",
   "name": "python",
   "nbconvert_exporter": "python",
   "pygments_lexer": "ipython3",
   "version": "3.8.8"
  },
  "orig_nbformat": 4
 },
 "nbformat": 4,
 "nbformat_minor": 2
}